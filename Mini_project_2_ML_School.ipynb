{
  "nbformat": 4,
  "nbformat_minor": 0,
  "metadata": {
    "colab": {
      "provenance": [],
      "authorship_tag": "ABX9TyOy4/UMhMmCPPRaRGoK2bKF",
      "include_colab_link": true
    },
    "kernelspec": {
      "name": "python3",
      "display_name": "Python 3"
    },
    "language_info": {
      "name": "python"
    }
  },
  "cells": [
    {
      "cell_type": "markdown",
      "metadata": {
        "id": "view-in-github",
        "colab_type": "text"
      },
      "source": [
        "<a href=\"https://colab.research.google.com/github/soumiljainer11/Mini-Project-2/blob/main/Mini_project_2_ML_School.ipynb\" target=\"_parent\"><img src=\"https://colab.research.google.com/assets/colab-badge.svg\" alt=\"Open In Colab\"/></a>"
      ]
    },
    {
      "cell_type": "code",
      "execution_count": 8,
      "metadata": {
        "colab": {
          "base_uri": "https://localhost:8080/"
        },
        "id": "P5-AJfZ4sw3w",
        "outputId": "b81df09a-2a26-41b5-e84d-029241a32235"
      },
      "outputs": [
        {
          "output_type": "stream",
          "name": "stdout",
          "text": [
            "['ram', 1, 'Shyam', 2, 'Aman', 3]\n"
          ]
        }
      ],
      "source": [
        "L=[\"ram\",1,\"Shyam\",2,\"Aman\",3]\n",
        "print(L)"
      ]
    },
    {
      "cell_type": "code",
      "source": [
        "L=[str(i) for i in L]"
      ],
      "metadata": {
        "id": "c_blJQvCs_OB"
      },
      "execution_count": 9,
      "outputs": []
    },
    {
      "cell_type": "code",
      "source": [
        "L.sort()"
      ],
      "metadata": {
        "id": "FVrkAoN6uUww"
      },
      "execution_count": 11,
      "outputs": []
    },
    {
      "cell_type": "code",
      "source": [
        "print(L)"
      ],
      "metadata": {
        "colab": {
          "base_uri": "https://localhost:8080/"
        },
        "id": "h4kaFaBstXTU",
        "outputId": "1156093a-2db4-4293-82c3-afa5f3cd119e"
      },
      "execution_count": 12,
      "outputs": [
        {
          "output_type": "stream",
          "name": "stdout",
          "text": [
            "['1', '2', '3', 'Aman', 'Shyam', 'ram']\n"
          ]
        }
      ]
    },
    {
      "cell_type": "code",
      "source": [
        "L1=[]\n",
        "for i in L:\n",
        "  try:\n",
        "    L1.append(int(i))\n",
        "  except:\n",
        "    L1.append(i)\n",
        "\n",
        "print(L1)"
      ],
      "metadata": {
        "colab": {
          "base_uri": "https://localhost:8080/"
        },
        "id": "dAwzwc-kuYko",
        "outputId": "4053d83f-58f8-40e0-8a73-c3ea07354d0b"
      },
      "execution_count": 13,
      "outputs": [
        {
          "output_type": "stream",
          "name": "stdout",
          "text": [
            "[1, 2, 3, 'Aman', 'Shyam', 'ram']\n"
          ]
        }
      ]
    },
    {
      "cell_type": "code",
      "source": [
        "import time\n",
        "\n",
        "t1=time.time()\n",
        "\n",
        "for i in range(10):\n",
        "  for j in range(10):\n",
        "    x=900\n",
        "\n",
        "t2=time.time()\n",
        "\n",
        "print(\"Total time: \",t2-t1)\n"
      ],
      "metadata": {
        "colab": {
          "base_uri": "https://localhost:8080/"
        },
        "id": "nFOFX_0vvTVz",
        "outputId": "0d01a2c4-2f73-4a9b-fa53-448f0a2c5759"
      },
      "execution_count": 15,
      "outputs": [
        {
          "output_type": "stream",
          "name": "stdout",
          "text": [
            "Total time:  0.00015211105346679688\n"
          ]
        }
      ]
    }
  ]
}